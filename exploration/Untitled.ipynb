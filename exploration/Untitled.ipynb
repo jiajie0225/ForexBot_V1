{
 "cells": [
  {
   "cell_type": "code",
   "execution_count": 1,
   "id": "bfe1fa1d-0545-4b0b-8393-665bb2e9f571",
   "metadata": {},
   "outputs": [],
   "source": [
    "import requests\n",
    "import pandas as pd\n",
    "import json"
   ]
  },
  {
   "cell_type": "code",
   "execution_count": 3,
   "id": "838162ad-92e0-41a3-aeb9-6ffb12c72826",
   "metadata": {},
   "outputs": [],
   "source": [
    "API_KEY = \"bb2c9611a7addc2bb78c7c3433c40171-097edf996c282e83518e13ad2f045839\"\n",
    "ACCOUNT_ID = \"101-002-27231304-001\"\n",
    "OANDA_URL = 'https://api-fxpractice.oanda.com/v3'\n"
   ]
  },
  {
   "cell_type": "code",
   "execution_count": 4,
   "id": "8914a744-a7d2-4d36-8dd6-2b73b6f9bd09",
   "metadata": {},
   "outputs": [],
   "source": [
    "# Request has a session object, help maintain persisteng connection\n",
    "session = requests.Session()"
   ]
  },
  {
   "cell_type": "code",
   "execution_count": 5,
   "id": "8f08bdfd-7bcb-4fba-8c36-769a5fde96da",
   "metadata": {},
   "outputs": [],
   "source": [
    "session.headers.update({\n",
    "    \"Authorization\" :f\"Bearer {API_KEY}\",\n",
    "    \"Content-Type\": \"application/json\"\n",
    "})"
   ]
  },
  {
   "cell_type": "code",
   "execution_count": 6,
   "id": "9e03f700-d6dd-4823-a97e-dc921c0279ee",
   "metadata": {},
   "outputs": [],
   "source": [
    "url = f\"{OANDA_URL}/instruments/EUR_USD/candles\""
   ]
  },
  {
   "cell_type": "code",
   "execution_count": null,
   "id": "d6c4d51d-c76a-431c-a0ba-da3519bbba7d",
   "metadata": {},
   "outputs": [],
   "source": []
  }
 ],
 "metadata": {
  "kernelspec": {
   "display_name": "Python 3 (ipykernel)",
   "language": "python",
   "name": "python3"
  },
  "language_info": {
   "codemirror_mode": {
    "name": "ipython",
    "version": 3
   },
   "file_extension": ".py",
   "mimetype": "text/x-python",
   "name": "python",
   "nbconvert_exporter": "python",
   "pygments_lexer": "ipython3",
   "version": "3.11.4"
  }
 },
 "nbformat": 4,
 "nbformat_minor": 5
}
