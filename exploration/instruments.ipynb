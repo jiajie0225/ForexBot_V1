{
 "cells": [
  {
   "cell_type": "code",
   "execution_count": 73,
   "id": "bfe1fa1d-0545-4b0b-8393-665bb2e9f571",
   "metadata": {},
   "outputs": [],
   "source": [
    "import requests\n",
    "import pandas as pd\n",
    "import json\n",
    "from dateutil import parser"
   ]
  },
  {
   "cell_type": "code",
   "execution_count": 74,
   "id": "838162ad-92e0-41a3-aeb9-6ffb12c72826",
   "metadata": {},
   "outputs": [],
   "source": [
    "API_KEY = \"bb2c9611a7addc2bb78c7c3433c40171-097edf996c282e83518e13ad2f045839\"\n",
    "ACCOUNT_ID = \"101-002-27231304-001\"\n",
    "OANDA_URL = 'https://api-fxpractice.oanda.com/v3'\n"
   ]
  },
  {
   "cell_type": "code",
   "execution_count": 75,
   "id": "8914a744-a7d2-4d36-8dd6-2b73b6f9bd09",
   "metadata": {},
   "outputs": [],
   "source": [
    "# Request has a session object, help maintain persisteng connection\n",
    "session = requests.Session()"
   ]
  },
  {
   "cell_type": "code",
   "execution_count": 76,
   "id": "8f08bdfd-7bcb-4fba-8c36-769a5fde96da",
   "metadata": {},
   "outputs": [],
   "source": [
    "session.headers.update({\n",
    "    \"Authorization\" :f\"Bearer {API_KEY}\",\n",
    "    \"Content-Type\": \"application/json\"\n",
    "})"
   ]
  },
  {
   "cell_type": "code",
   "execution_count": 77,
   "id": "4b8a984f-4100-4c8f-ab29-5d58ed3614bb",
   "metadata": {},
   "outputs": [],
   "source": [
    "params = dict(\n",
    "    count = 10,\n",
    "    granularity = \"H1\",\n",
    "    price = \"MBA\"\n",
    ")"
   ]
  },
  {
   "cell_type": "code",
   "execution_count": 78,
   "id": "9e03f700-d6dd-4823-a97e-dc921c0279ee",
   "metadata": {},
   "outputs": [],
   "source": [
    "url = f\"{OANDA_URL}/accounts/{ACCOUNT_ID}/instruments\""
   ]
  },
  {
   "cell_type": "code",
   "execution_count": 79,
   "id": "d6c4d51d-c76a-431c-a0ba-da3519bbba7d",
   "metadata": {},
   "outputs": [],
   "source": [
    "response = session.get(url, params= params, data = None, headers=None)"
   ]
  },
  {
   "cell_type": "code",
   "execution_count": 80,
   "id": "b8d66f1b-fa81-4dac-8a83-400d7c0bf65b",
   "metadata": {},
   "outputs": [
    {
     "data": {
      "text/plain": [
       "200"
      ]
     },
     "execution_count": 80,
     "metadata": {},
     "output_type": "execute_result"
    }
   ],
   "source": [
    "response.status_code"
   ]
  },
  {
   "cell_type": "code",
   "execution_count": 81,
   "id": "64f68c8c-925b-4904-9fdb-ed5add92bb6a",
   "metadata": {},
   "outputs": [],
   "source": [
    "data= response.json()\n",
    "instruments_list = data['instruments']"
   ]
  },
  {
   "cell_type": "code",
   "execution_count": 82,
   "id": "e8705422",
   "metadata": {},
   "outputs": [
    {
     "data": {
      "text/plain": [
       "123"
      ]
     },
     "execution_count": 82,
     "metadata": {},
     "output_type": "execute_result"
    }
   ],
   "source": [
    "len(instruments_list)"
   ]
  },
  {
   "cell_type": "code",
   "execution_count": 83,
   "id": "38f9a400",
   "metadata": {},
   "outputs": [
    {
     "data": {
      "text/plain": [
       "dict_keys(['name', 'type', 'displayName', 'pipLocation', 'displayPrecision', 'tradeUnitsPrecision', 'minimumTradeSize', 'maximumTrailingStopDistance', 'minimumTrailingStopDistance', 'maximumPositionSize', 'maximumOrderUnits', 'marginRate', 'guaranteedStopLossOrderMode', 'tags', 'financing'])"
      ]
     },
     "execution_count": 83,
     "metadata": {},
     "output_type": "execute_result"
    }
   ],
   "source": [
    "instruments_list[0].keys()"
   ]
  },
  {
   "cell_type": "code",
   "execution_count": 84,
   "id": "91761f55",
   "metadata": {},
   "outputs": [],
   "source": [
    "key_i = ['name', 'type', 'displayName', 'pipLocation', 'displayPrecision', 'tradeUnitsPrecision', 'marginRate']"
   ]
  },
  {
   "cell_type": "code",
   "execution_count": 85,
   "id": "5c6512f5",
   "metadata": {},
   "outputs": [],
   "source": [
    "instrument_dict= {}\n",
    "for i in instruments_list:\n",
    "    key = i['name']\n",
    "    instrument_dict[key] = {k : i[k] for k in key_i}"
   ]
  },
  {
   "cell_type": "code",
   "execution_count": 86,
   "id": "694e28c9",
   "metadata": {},
   "outputs": [
    {
     "data": {
      "text/plain": [
       "{'name': 'USD_CAD',\n",
       " 'type': 'CURRENCY',\n",
       " 'displayName': 'USD/CAD',\n",
       " 'pipLocation': -4,\n",
       " 'displayPrecision': 5,\n",
       " 'tradeUnitsPrecision': 0,\n",
       " 'marginRate': '0.02'}"
      ]
     },
     "execution_count": 86,
     "metadata": {},
     "output_type": "execute_result"
    }
   ],
   "source": [
    "instrument_dict['USD_CAD']"
   ]
  },
  {
   "cell_type": "code",
   "execution_count": 87,
   "id": "34910d1b",
   "metadata": {},
   "outputs": [],
   "source": [
    "with open('../data/instruments.json', 'w') as f:\n",
    "    f.write(json.dumps(instrument_dict, indent=2))"
   ]
  },
  {
   "cell_type": "code",
   "execution_count": 88,
   "id": "8f957c6e",
   "metadata": {},
   "outputs": [],
   "source": [
    "def fetch_candles(pair_name, count=10, granularity=\"H1\"):\n",
    "    url = f\"{OANDA_URL}/instruments/{pair_name}/candles\"\n",
    "    params = dict(\n",
    "        count = count,\n",
    "        granularity = granularity,\n",
    "        price = \"MBA\"\n",
    "    )\n",
    "    response = session.get(url, params=params, data = None, headers= None)\n",
    "    data = response.json()\n",
    "\n",
    "    if response.status_code == 200:\n",
    "        if 'candles' not in data:\n",
    "            data = []\n",
    "        else:\n",
    "            data = data['candles']\n",
    "            \n",
    "\n",
    "    return response.status_code, data\n",
    "\n"
   ]
  },
  {
   "cell_type": "code",
   "execution_count": 89,
   "id": "f442cb79",
   "metadata": {},
   "outputs": [],
   "source": [
    "# time\n",
    "# volume\n",
    "# only want complete candles\n",
    "\n",
    "\n",
    "def get_candles_df(data):\n",
    "    if len(data) ==0:\n",
    "        return pd.DataFrame()\n",
    "    \n",
    "    prices = ['mid', 'bid', 'ask']\n",
    "    ohlc = ['o', 'h', 'l', 'c']\n",
    "    final_data = []\n",
    "    for candle in data:\n",
    "        if candle['complete'] ==False:\n",
    "            continue\n",
    "        new_dict = {}\n",
    "        new_dict['time'] = parser.parse(candle['time'])\n",
    "        new_dict['volume'] = candle['volume']\n",
    "        for price in prices:\n",
    "            for oh in ohlc:\n",
    "                new_dict[f\"{price}_{oh}\"]= float(candle[price][oh])   \n",
    "        final_data.append(new_dict)\n",
    "    df = pd.DataFrame.from_dict(final_data)\n",
    "    return df\n"
   ]
  },
  {
   "cell_type": "code",
   "execution_count": 90,
   "id": "8879dba4",
   "metadata": {},
   "outputs": [],
   "source": [
    "def create_data_file(pair_name, count = 10, granularity =\"H1\"):\n",
    "    code, data = fetch_candles(pair_name, count, granularity )\n",
    "    if code != 200:\n",
    "        print(\"Failed\", pair_name)\n",
    "        return\n",
    "    if len(data) ==0:\n",
    "        print(\"No candles\", pair_name)\n",
    "    candles_df = get_candles_df(data)\n",
    "    candles_df.to_pickle(f\"../data/{pair_name}_{granularity}.pkl\")\n",
    "    print(f\"{pair_name} {granularity} {candles_df.shape[0]} candles, {candles_df.time.min()} {candles_df.time.max()} \")\n",
    "    "
   ]
  },
  {
   "cell_type": "code",
   "execution_count": 91,
   "id": "35fa8007",
   "metadata": {},
   "outputs": [
    {
     "ename": "SyntaxError",
     "evalue": "invalid syntax. Maybe you meant '==' or ':=' instead of '='? (1562011658.py, line 1)",
     "output_type": "error",
     "traceback": [
      "\u001b[0;36m  Cell \u001b[0;32mIn[91], line 1\u001b[0;36m\u001b[0m\n\u001b[0;31m    \"EUR_USD\", count = 10, granularity=\"H4\"code, data = fetch_candles( )\u001b[0m\n\u001b[0m               ^\u001b[0m\n\u001b[0;31mSyntaxError\u001b[0m\u001b[0;31m:\u001b[0m invalid syntax. Maybe you meant '==' or ':=' instead of '='?\n"
     ]
    }
   ],
   "source": [
    "code, data = fetch_candles(\"EUR_USD\", count = 10, granularity=\"H4\" )\n",
    "candles_df = get_candles_df(data)"
   ]
  },
  {
   "cell_type": "code",
   "execution_count": 92,
   "id": "51aad039",
   "metadata": {},
   "outputs": [
    {
     "name": "stdout",
     "output_type": "stream",
     "text": [
      "EUR_USD H4 9 candles, 2023-11-15 10:00:00+00:00 2023-11-16 18:00:00+00:00 \n"
     ]
    }
   ],
   "source": [
    "create_data_file(\"EUR_USD\", count = 10, granularity=\"H4\")"
   ]
  },
  {
   "cell_type": "code",
   "execution_count": 94,
   "id": "60ad38df",
   "metadata": {},
   "outputs": [],
   "source": [
    "our_curr = ['EUR','USD','GBP','JPY','CHF','NZD', 'CAD', 'AUD']"
   ]
  },
  {
   "cell_type": "code",
   "execution_count": null,
   "id": "a5c89a24",
   "metadata": {},
   "outputs": [],
   "source": []
  },
  {
   "cell_type": "code",
   "execution_count": 98,
   "id": "8e0c108b",
   "metadata": {},
   "outputs": [
    {
     "name": "stdout",
     "output_type": "stream",
     "text": [
      "EUR_USD H1 4000 candles, 2023-03-29 07:00:00+00:00 2023-11-16 23:00:00+00:00 \n",
      "EUR_USD H4 4000 candles, 2021-04-27 05:00:00+00:00 2023-11-16 18:00:00+00:00 \n",
      "EUR_GBP H1 4000 candles, 2023-03-29 07:00:00+00:00 2023-11-16 23:00:00+00:00 \n",
      "EUR_GBP H4 4000 candles, 2021-04-27 05:00:00+00:00 2023-11-16 18:00:00+00:00 \n",
      "EUR_JPY H1 4000 candles, 2023-03-29 07:00:00+00:00 2023-11-16 23:00:00+00:00 \n",
      "EUR_JPY H4 4000 candles, 2021-04-26 21:00:00+00:00 2023-11-16 18:00:00+00:00 \n",
      "EUR_CHF H1 4000 candles, 2023-03-29 07:00:00+00:00 2023-11-16 23:00:00+00:00 \n",
      "EUR_CHF H4 4000 candles, 2021-04-27 05:00:00+00:00 2023-11-16 18:00:00+00:00 \n",
      "EUR_NZD H1 4000 candles, 2023-03-29 06:00:00+00:00 2023-11-16 23:00:00+00:00 \n",
      "EUR_NZD H4 4000 candles, 2021-04-27 05:00:00+00:00 2023-11-16 18:00:00+00:00 \n",
      "EUR_CAD H1 4000 candles, 2023-03-29 07:00:00+00:00 2023-11-16 23:00:00+00:00 \n",
      "EUR_CAD H4 4000 candles, 2021-04-27 05:00:00+00:00 2023-11-16 18:00:00+00:00 \n",
      "EUR_AUD H1 4000 candles, 2023-03-29 06:00:00+00:00 2023-11-16 23:00:00+00:00 \n",
      "EUR_AUD H4 4000 candles, 2021-04-27 05:00:00+00:00 2023-11-16 18:00:00+00:00 \n",
      "USD_JPY H1 4000 candles, 2023-03-29 07:00:00+00:00 2023-11-16 23:00:00+00:00 \n",
      "USD_JPY H4 4000 candles, 2021-04-27 05:00:00+00:00 2023-11-16 18:00:00+00:00 \n",
      "USD_CHF H1 4000 candles, 2023-03-29 07:00:00+00:00 2023-11-16 23:00:00+00:00 \n",
      "USD_CHF H4 4000 candles, 2021-04-27 05:00:00+00:00 2023-11-16 18:00:00+00:00 \n",
      "USD_CAD H1 4000 candles, 2023-03-29 07:00:00+00:00 2023-11-16 23:00:00+00:00 \n",
      "USD_CAD H4 4000 candles, 2021-04-27 05:00:00+00:00 2023-11-16 18:00:00+00:00 \n",
      "GBP_USD H1 4000 candles, 2023-03-29 07:00:00+00:00 2023-11-16 23:00:00+00:00 \n",
      "GBP_USD H4 4000 candles, 2021-04-27 05:00:00+00:00 2023-11-16 18:00:00+00:00 \n",
      "GBP_JPY H1 4000 candles, 2023-03-29 07:00:00+00:00 2023-11-16 23:00:00+00:00 \n",
      "GBP_JPY H4 4000 candles, 2021-04-27 05:00:00+00:00 2023-11-16 18:00:00+00:00 \n",
      "GBP_CHF H1 4000 candles, 2023-03-29 07:00:00+00:00 2023-11-16 23:00:00+00:00 \n",
      "GBP_CHF H4 4000 candles, 2021-04-27 05:00:00+00:00 2023-11-16 18:00:00+00:00 \n",
      "GBP_NZD H1 4000 candles, 2023-03-29 06:00:00+00:00 2023-11-16 23:00:00+00:00 \n",
      "GBP_NZD H4 4000 candles, 2021-04-27 05:00:00+00:00 2023-11-16 18:00:00+00:00 \n",
      "GBP_CAD H1 4000 candles, 2023-03-29 07:00:00+00:00 2023-11-16 23:00:00+00:00 \n",
      "GBP_CAD H4 4000 candles, 2021-04-27 05:00:00+00:00 2023-11-16 18:00:00+00:00 \n",
      "GBP_AUD H1 4000 candles, 2023-03-29 04:00:00+00:00 2023-11-16 23:00:00+00:00 \n",
      "GBP_AUD H4 4000 candles, 2021-04-27 05:00:00+00:00 2023-11-16 18:00:00+00:00 \n",
      "CHF_JPY H1 4000 candles, 2023-03-29 07:00:00+00:00 2023-11-16 23:00:00+00:00 \n",
      "CHF_JPY H4 4000 candles, 2021-04-27 05:00:00+00:00 2023-11-16 18:00:00+00:00 \n",
      "NZD_USD H1 4000 candles, 2023-03-29 07:00:00+00:00 2023-11-16 23:00:00+00:00 \n",
      "NZD_USD H4 4000 candles, 2021-04-27 13:00:00+00:00 2023-11-16 18:00:00+00:00 \n",
      "NZD_JPY H1 4000 candles, 2023-03-29 07:00:00+00:00 2023-11-16 23:00:00+00:00 \n",
      "NZD_JPY H4 4000 candles, 2021-04-27 05:00:00+00:00 2023-11-16 18:00:00+00:00 \n",
      "NZD_CHF H1 4000 candles, 2023-03-29 00:00:00+00:00 2023-11-16 23:00:00+00:00 \n",
      "NZD_CHF H4 4000 candles, 2021-04-27 01:00:00+00:00 2023-11-16 18:00:00+00:00 \n",
      "NZD_CAD H1 4000 candles, 2023-03-29 06:00:00+00:00 2023-11-16 23:00:00+00:00 \n",
      "NZD_CAD H4 4000 candles, 2021-04-27 05:00:00+00:00 2023-11-16 18:00:00+00:00 \n",
      "CAD_JPY H1 4000 candles, 2023-03-29 07:00:00+00:00 2023-11-16 23:00:00+00:00 \n",
      "CAD_JPY H4 4000 candles, 2021-04-27 05:00:00+00:00 2023-11-16 18:00:00+00:00 \n",
      "CAD_CHF H1 4000 candles, 2023-03-29 05:00:00+00:00 2023-11-16 23:00:00+00:00 \n",
      "CAD_CHF H4 4000 candles, 2021-04-27 05:00:00+00:00 2023-11-16 18:00:00+00:00 \n",
      "AUD_USD H1 4000 candles, 2023-03-29 07:00:00+00:00 2023-11-16 23:00:00+00:00 \n",
      "AUD_USD H4 4000 candles, 2021-04-27 05:00:00+00:00 2023-11-16 18:00:00+00:00 \n",
      "AUD_JPY H1 4000 candles, 2023-03-29 07:00:00+00:00 2023-11-16 23:00:00+00:00 \n",
      "AUD_JPY H4 4000 candles, 2021-04-28 05:00:00+00:00 2023-11-16 18:00:00+00:00 \n",
      "AUD_CHF H1 4000 candles, 2023-03-29 06:00:00+00:00 2023-11-16 23:00:00+00:00 \n",
      "AUD_CHF H4 4000 candles, 2021-04-27 01:00:00+00:00 2023-11-16 18:00:00+00:00 \n",
      "AUD_NZD H1 4000 candles, 2023-03-29 07:00:00+00:00 2023-11-16 23:00:00+00:00 \n",
      "AUD_NZD H4 4000 candles, 2021-04-27 01:00:00+00:00 2023-11-16 18:00:00+00:00 \n",
      "AUD_CAD H1 4000 candles, 2023-03-29 07:00:00+00:00 2023-11-16 23:00:00+00:00 \n",
      "AUD_CAD H4 4000 candles, 2021-04-27 05:00:00+00:00 2023-11-16 18:00:00+00:00 \n"
     ]
    }
   ],
   "source": [
    "for p1 in our_curr:\n",
    "    for p2 in our_curr:\n",
    "        pair = f\"{p1}_{p2}\"\n",
    "        if pair in instrument_dict:\n",
    "            for g in [\"H1\", \"H4\"]:\n",
    "                create_data_file(pair, count = 4001, granularity=g)"
   ]
  },
  {
   "cell_type": "code",
   "execution_count": null,
   "id": "6d4a6e6e",
   "metadata": {},
   "outputs": [],
   "source": []
  },
  {
   "cell_type": "code",
   "execution_count": null,
   "id": "3874de69",
   "metadata": {},
   "outputs": [],
   "source": []
  }
 ],
 "metadata": {
  "kernelspec": {
   "display_name": "Python 3 (ipykernel)",
   "language": "python",
   "name": "python3"
  },
  "language_info": {
   "codemirror_mode": {
    "name": "ipython",
    "version": 3
   },
   "file_extension": ".py",
   "mimetype": "text/x-python",
   "name": "python",
   "nbconvert_exporter": "python",
   "pygments_lexer": "ipython3",
   "version": "3.11.4"
  }
 },
 "nbformat": 4,
 "nbformat_minor": 5
}
