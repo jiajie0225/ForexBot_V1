{
 "cells": [
  {
   "cell_type": "code",
   "execution_count": 3,
   "id": "bfe1fa1d-0545-4b0b-8393-665bb2e9f571",
   "metadata": {},
   "outputs": [],
   "source": [
    "import requests\n",
    "import pandas as pd\n",
    "import json"
   ]
  },
  {
   "cell_type": "code",
   "execution_count": 4,
   "id": "838162ad-92e0-41a3-aeb9-6ffb12c72826",
   "metadata": {},
   "outputs": [],
   "source": [
    "API_KEY = \"bb2c9611a7addc2bb78c7c3433c40171-097edf996c282e83518e13ad2f045839\"\n",
    "ACCOUNT_ID = \"101-002-27231304-001\"\n",
    "OANDA_URL = 'https://api-fxpractice.oanda.com/v3'\n"
   ]
  },
  {
   "cell_type": "code",
   "execution_count": 5,
   "id": "8914a744-a7d2-4d36-8dd6-2b73b6f9bd09",
   "metadata": {},
   "outputs": [],
   "source": [
    "# Request has a session object, help maintain persisteng connection\n",
    "session = requests.Session()"
   ]
  },
  {
   "cell_type": "code",
   "execution_count": 6,
   "id": "8f08bdfd-7bcb-4fba-8c36-769a5fde96da",
   "metadata": {},
   "outputs": [],
   "source": [
    "session.headers.update({\n",
    "    \"Authorization\" :f\"Bearer {API_KEY}\",\n",
    "    \"Content-Type\": \"application/json\"\n",
    "})"
   ]
  },
  {
   "cell_type": "code",
   "execution_count": 7,
   "id": "4b8a984f-4100-4c8f-ab29-5d58ed3614bb",
   "metadata": {},
   "outputs": [],
   "source": [
    "params = dict(\n",
    "    count = 10,\n",
    "    granularity = \"H1\",\n",
    "    price = \"MBA\"\n",
    ")"
   ]
  },
  {
   "cell_type": "code",
   "execution_count": 8,
   "id": "9e03f700-d6dd-4823-a97e-dc921c0279ee",
   "metadata": {},
   "outputs": [],
   "source": [
    "url = f\"{OANDA_URL}/accounts/{ACCOUNT_ID}/instruments\""
   ]
  },
  {
   "cell_type": "code",
   "execution_count": 9,
   "id": "d6c4d51d-c76a-431c-a0ba-da3519bbba7d",
   "metadata": {},
   "outputs": [],
   "source": [
    "response = session.get(url, params= params, data = None, headers=None)"
   ]
  },
  {
   "cell_type": "code",
   "execution_count": 10,
   "id": "b8d66f1b-fa81-4dac-8a83-400d7c0bf65b",
   "metadata": {},
   "outputs": [
    {
     "data": {
      "text/plain": [
       "200"
      ]
     },
     "execution_count": 10,
     "metadata": {},
     "output_type": "execute_result"
    }
   ],
   "source": [
    "response.status_code"
   ]
  },
  {
   "cell_type": "code",
   "execution_count": 11,
   "id": "64f68c8c-925b-4904-9fdb-ed5add92bb6a",
   "metadata": {},
   "outputs": [],
   "source": [
    "data= response.json()\n",
    "instruments_list = data['instruments']"
   ]
  },
  {
   "cell_type": "code",
   "execution_count": 12,
   "id": "e8705422",
   "metadata": {},
   "outputs": [
    {
     "data": {
      "text/plain": [
       "123"
      ]
     },
     "execution_count": 12,
     "metadata": {},
     "output_type": "execute_result"
    }
   ],
   "source": [
    "len(instruments_list)"
   ]
  },
  {
   "cell_type": "code",
   "execution_count": 13,
   "id": "38f9a400",
   "metadata": {},
   "outputs": [
    {
     "data": {
      "text/plain": [
       "dict_keys(['name', 'type', 'displayName', 'pipLocation', 'displayPrecision', 'tradeUnitsPrecision', 'minimumTradeSize', 'maximumTrailingStopDistance', 'minimumTrailingStopDistance', 'maximumPositionSize', 'maximumOrderUnits', 'marginRate', 'guaranteedStopLossOrderMode', 'tags', 'financing'])"
      ]
     },
     "execution_count": 13,
     "metadata": {},
     "output_type": "execute_result"
    }
   ],
   "source": [
    "instruments_list[0].keys()"
   ]
  },
  {
   "cell_type": "code",
   "execution_count": 14,
   "id": "91761f55",
   "metadata": {},
   "outputs": [],
   "source": [
    "key_i = ['name', 'type', 'displayName', 'pipLocation', 'displayPrecision', 'tradeUnitsPrecision', 'marginRate']"
   ]
  },
  {
   "cell_type": "code",
   "execution_count": 15,
   "id": "5c6512f5",
   "metadata": {},
   "outputs": [],
   "source": [
    "instrument_dict= {}\n",
    "for i in instruments_list:\n",
    "    key = i['name']\n",
    "    instrument_dict[key] = {k : i[k] for k in key_i}"
   ]
  },
  {
   "cell_type": "code",
   "execution_count": 16,
   "id": "694e28c9",
   "metadata": {},
   "outputs": [
    {
     "data": {
      "text/plain": [
       "{'name': 'USD_CAD',\n",
       " 'type': 'CURRENCY',\n",
       " 'displayName': 'USD/CAD',\n",
       " 'pipLocation': -4,\n",
       " 'displayPrecision': 5,\n",
       " 'tradeUnitsPrecision': 0,\n",
       " 'marginRate': '0.02'}"
      ]
     },
     "execution_count": 16,
     "metadata": {},
     "output_type": "execute_result"
    }
   ],
   "source": [
    "instrument_dict['USD_CAD']"
   ]
  },
  {
   "cell_type": "code",
   "execution_count": 17,
   "id": "34910d1b",
   "metadata": {},
   "outputs": [],
   "source": [
    "with open('../data/instruments.json', 'w') as f:\n",
    "    f.write(json.dumps(instrument_dict, indent=2))"
   ]
  },
  {
   "cell_type": "code",
   "execution_count": 18,
   "id": "8f957c6e",
   "metadata": {},
   "outputs": [],
   "source": [
    "def fetch_candles(pair_name, count=10, granularity=\"H1\"):\n",
    "    url = f\"{OANDA_URL}/instruments/{pair_name}/candles\"\n",
    "    params = dict(\n",
    "        count = count,\n",
    "        granularity = granularity,\n",
    "        price = \"MBA\"\n",
    "    )\n",
    "    response = session.get(url, params=params, data = None, headers= None)\n",
    "    data = response.json()\n",
    "\n",
    "    if response.status_code == 200:\n",
    "        if 'candles' not in data:\n",
    "            data = []\n",
    "        else:\n",
    "            data = data['candles']\n",
    "            \n",
    "\n",
    "    return response.status_code, data\n",
    "\n"
   ]
  },
  {
   "cell_type": "code",
   "execution_count": 19,
   "id": "35fa8007",
   "metadata": {},
   "outputs": [],
   "source": [
    "code, data = fetch_candles(\"EUR_USD\", count = 20 )"
   ]
  },
  {
   "cell_type": "code",
   "execution_count": 22,
   "id": "51aad039",
   "metadata": {},
   "outputs": [
    {
     "data": {
      "text/plain": [
       "{'complete': True,\n",
       " 'volume': 1068,\n",
       " 'time': '2023-11-16T04:00:00.000000000Z',\n",
       " 'bid': {'o': '1.08321', 'h': '1.08367', 'l': '1.08314', 'c': '1.08365'},\n",
       " 'mid': {'o': '1.08328', 'h': '1.08374', 'l': '1.08322', 'c': '1.08372'},\n",
       " 'ask': {'o': '1.08335', 'h': '1.08382', 'l': '1.08329', 'c': '1.08380'}}"
      ]
     },
     "execution_count": 22,
     "metadata": {},
     "output_type": "execute_result"
    }
   ],
   "source": [
    "data[0]"
   ]
  },
  {
   "cell_type": "code",
   "execution_count": 34,
   "id": "f442cb79",
   "metadata": {},
   "outputs": [],
   "source": [
    "# time\n",
    "# volume\n",
    "# only want complete candles\n",
    "final_data = []\n",
    "\n",
    "for candle in data:\n",
    "    if candle['complete'] ==False:\n",
    "        continue\n",
    "    new_dict = {}\n",
    "    new_dict['time'] = candle['time']\n",
    "    new_dict['volume'] = candle['volume']\n",
    "    final_data.append(new_dict)\n",
    "df = pd.DataFrame.from_dict(final_data)\n"
   ]
  },
  {
   "cell_type": "code",
   "execution_count": 35,
   "id": "99485313",
   "metadata": {},
   "outputs": [
    {
     "data": {
      "text/html": [
       "<div>\n",
       "<style scoped>\n",
       "    .dataframe tbody tr th:only-of-type {\n",
       "        vertical-align: middle;\n",
       "    }\n",
       "\n",
       "    .dataframe tbody tr th {\n",
       "        vertical-align: top;\n",
       "    }\n",
       "\n",
       "    .dataframe thead th {\n",
       "        text-align: right;\n",
       "    }\n",
       "</style>\n",
       "<table border=\"1\" class=\"dataframe\">\n",
       "  <thead>\n",
       "    <tr style=\"text-align: right;\">\n",
       "      <th></th>\n",
       "      <th>time</th>\n",
       "      <th>volume</th>\n",
       "    </tr>\n",
       "  </thead>\n",
       "  <tbody>\n",
       "    <tr>\n",
       "      <th>0</th>\n",
       "      <td>2023-11-16T04:00:00.000000000Z</td>\n",
       "      <td>1068</td>\n",
       "    </tr>\n",
       "    <tr>\n",
       "      <th>1</th>\n",
       "      <td>2023-11-16T05:00:00.000000000Z</td>\n",
       "      <td>1434</td>\n",
       "    </tr>\n",
       "    <tr>\n",
       "      <th>2</th>\n",
       "      <td>2023-11-16T06:00:00.000000000Z</td>\n",
       "      <td>2138</td>\n",
       "    </tr>\n",
       "    <tr>\n",
       "      <th>3</th>\n",
       "      <td>2023-11-16T07:00:00.000000000Z</td>\n",
       "      <td>3248</td>\n",
       "    </tr>\n",
       "    <tr>\n",
       "      <th>4</th>\n",
       "      <td>2023-11-16T08:00:00.000000000Z</td>\n",
       "      <td>5052</td>\n",
       "    </tr>\n",
       "    <tr>\n",
       "      <th>5</th>\n",
       "      <td>2023-11-16T09:00:00.000000000Z</td>\n",
       "      <td>3685</td>\n",
       "    </tr>\n",
       "    <tr>\n",
       "      <th>6</th>\n",
       "      <td>2023-11-16T10:00:00.000000000Z</td>\n",
       "      <td>3306</td>\n",
       "    </tr>\n",
       "    <tr>\n",
       "      <th>7</th>\n",
       "      <td>2023-11-16T11:00:00.000000000Z</td>\n",
       "      <td>2609</td>\n",
       "    </tr>\n",
       "    <tr>\n",
       "      <th>8</th>\n",
       "      <td>2023-11-16T12:00:00.000000000Z</td>\n",
       "      <td>3602</td>\n",
       "    </tr>\n",
       "    <tr>\n",
       "      <th>9</th>\n",
       "      <td>2023-11-16T13:00:00.000000000Z</td>\n",
       "      <td>8148</td>\n",
       "    </tr>\n",
       "    <tr>\n",
       "      <th>10</th>\n",
       "      <td>2023-11-16T14:00:00.000000000Z</td>\n",
       "      <td>8196</td>\n",
       "    </tr>\n",
       "    <tr>\n",
       "      <th>11</th>\n",
       "      <td>2023-11-16T15:00:00.000000000Z</td>\n",
       "      <td>8649</td>\n",
       "    </tr>\n",
       "    <tr>\n",
       "      <th>12</th>\n",
       "      <td>2023-11-16T16:00:00.000000000Z</td>\n",
       "      <td>6425</td>\n",
       "    </tr>\n",
       "    <tr>\n",
       "      <th>13</th>\n",
       "      <td>2023-11-16T17:00:00.000000000Z</td>\n",
       "      <td>3706</td>\n",
       "    </tr>\n",
       "    <tr>\n",
       "      <th>14</th>\n",
       "      <td>2023-11-16T18:00:00.000000000Z</td>\n",
       "      <td>2738</td>\n",
       "    </tr>\n",
       "    <tr>\n",
       "      <th>15</th>\n",
       "      <td>2023-11-16T19:00:00.000000000Z</td>\n",
       "      <td>2607</td>\n",
       "    </tr>\n",
       "    <tr>\n",
       "      <th>16</th>\n",
       "      <td>2023-11-16T20:00:00.000000000Z</td>\n",
       "      <td>2676</td>\n",
       "    </tr>\n",
       "    <tr>\n",
       "      <th>17</th>\n",
       "      <td>2023-11-16T21:00:00.000000000Z</td>\n",
       "      <td>1075</td>\n",
       "    </tr>\n",
       "    <tr>\n",
       "      <th>18</th>\n",
       "      <td>2023-11-16T22:00:00.000000000Z</td>\n",
       "      <td>2289</td>\n",
       "    </tr>\n",
       "  </tbody>\n",
       "</table>\n",
       "</div>"
      ],
      "text/plain": [
       "                              time  volume\n",
       "0   2023-11-16T04:00:00.000000000Z    1068\n",
       "1   2023-11-16T05:00:00.000000000Z    1434\n",
       "2   2023-11-16T06:00:00.000000000Z    2138\n",
       "3   2023-11-16T07:00:00.000000000Z    3248\n",
       "4   2023-11-16T08:00:00.000000000Z    5052\n",
       "5   2023-11-16T09:00:00.000000000Z    3685\n",
       "6   2023-11-16T10:00:00.000000000Z    3306\n",
       "7   2023-11-16T11:00:00.000000000Z    2609\n",
       "8   2023-11-16T12:00:00.000000000Z    3602\n",
       "9   2023-11-16T13:00:00.000000000Z    8148\n",
       "10  2023-11-16T14:00:00.000000000Z    8196\n",
       "11  2023-11-16T15:00:00.000000000Z    8649\n",
       "12  2023-11-16T16:00:00.000000000Z    6425\n",
       "13  2023-11-16T17:00:00.000000000Z    3706\n",
       "14  2023-11-16T18:00:00.000000000Z    2738\n",
       "15  2023-11-16T19:00:00.000000000Z    2607\n",
       "16  2023-11-16T20:00:00.000000000Z    2676\n",
       "17  2023-11-16T21:00:00.000000000Z    1075\n",
       "18  2023-11-16T22:00:00.000000000Z    2289"
      ]
     },
     "execution_count": 35,
     "metadata": {},
     "output_type": "execute_result"
    }
   ],
   "source": [
    "df"
   ]
  },
  {
   "cell_type": "code",
   "execution_count": null,
   "id": "60ad38df",
   "metadata": {},
   "outputs": [],
   "source": []
  }
 ],
 "metadata": {
  "kernelspec": {
   "display_name": "Python 3 (ipykernel)",
   "language": "python",
   "name": "python3"
  },
  "language_info": {
   "codemirror_mode": {
    "name": "ipython",
    "version": 3
   },
   "file_extension": ".py",
   "mimetype": "text/x-python",
   "name": "python",
   "nbconvert_exporter": "python",
   "pygments_lexer": "ipython3",
   "version": "3.11.4"
  }
 },
 "nbformat": 4,
 "nbformat_minor": 5
}
